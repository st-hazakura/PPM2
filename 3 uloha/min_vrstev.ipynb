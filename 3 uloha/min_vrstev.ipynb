{
 "cells": [
  {
   "cell_type": "markdown",
   "metadata": {},
   "source": [
    "# Pokus pouzit jine modely pro poravnani s jinymi"
   ]
  },
  {
   "cell_type": "code",
   "execution_count": 68,
   "metadata": {},
   "outputs": [],
   "source": [
    "from typing import List, Tuple\n",
    "import pandas as pd\n",
    "import numpy as np\n",
    "import matplotlib.pyplot as plt\n",
    "\n",
    "import keras\n",
    "\n",
    "import tensorflow as tf\n",
    "from tensorflow.keras import layers, models\n",
    "from tensorflow.keras.models import Sequential\n",
    "from tensorflow.keras.layers import Input, Dense, Conv1D, Dropout, MaxPooling1D, Flatten,  Activation\n",
    "from tensorflow.keras.callbacks import ModelCheckpoint\n",
    "\n",
    "from sklearn.preprocessing import MinMaxScaler\n",
    "from sklearn.model_selection import train_test_split\n",
    "\n",
    "import os\n",
    "os.chdir('C:/Users/Home/Desktop/vyučovaní/Programovani/1 Letni semestr 2 rocnik/PPM2/3 uloha')"
   ]
  },
  {
   "cell_type": "markdown",
   "metadata": {},
   "source": [
    "## MODEL CONV 1D"
   ]
  },
  {
   "cell_type": "code",
   "execution_count": 69,
   "metadata": {},
   "outputs": [],
   "source": [
    "# def priprava_souboru_do_csv() -> None:\n",
    "#     df_diagnostic = pd.read_excel(\"scr/Diagnostics.xlsx\")\n",
    "#     diagnostic_naz_sloupcu = df_diagnostic.keys()\n",
    "\n",
    "#     SB_a_AFIB_nazvy_souboru = []\n",
    "\n",
    "#     for i in range(len(df_diagnostic[diagnostic_naz_sloupcu[0]][:])):\n",
    "#         if df_diagnostic[diagnostic_naz_sloupcu[1]][i] == \"SR\" or  df_diagnostic[diagnostic_naz_sloupcu[1]][i] == \"AFIB\":\n",
    "#             pacient = [ df_diagnostic[diagnostic_naz_sloupcu[0]][i], df_diagnostic[diagnostic_naz_sloupcu[1]][i] ]\n",
    "#             SB_a_AFIB_nazvy_souboru.append(pacient)\n",
    "    \n",
    "#     SB_a_AFIB_nazvy_souboru = pd.DataFrame(SB_a_AFIB_nazvy_souboru)\n",
    "#     SB_a_AFIB_nazvy_souboru.to_csv(\"SB_a_AFIB_nazvy_souboru.csv\")\n",
    "\n",
    "# priprava_souboru_do_csv()"
   ]
  },
  {
   "cell_type": "code",
   "execution_count": 70,
   "metadata": {},
   "outputs": [],
   "source": [
    "def stahovani_ekg_signalu_pacientu(nazev_souboru: str)-> Tuple[List[pd.DataFrame], List[int]]:\n",
    "    SB_a_AFIB_nazvy_souboru = pd.read_csv(f\"{nazev_souboru}.csv\")\n",
    "    X_data = []\n",
    "    y_data = []\n",
    "    for i in range(len(SB_a_AFIB_nazvy_souboru)//3):\n",
    "        nemoc = SB_a_AFIB_nazvy_souboru[\"1\"][i]\n",
    "        soubor = SB_a_AFIB_nazvy_souboru[\"0\"][i]\n",
    "        match nemoc:\n",
    "            case \"AFIB\":\n",
    "                y_data.append(0)\n",
    "            case \"SR\":\n",
    "                y_data.append(1)\n",
    "        signal_pacienta = pd.read_csv(f\"data_sigmalu/ECGDataDenoised/{soubor}.csv\",usecols=[0], names = [\"a\"], nrows= 1000)\n",
    "        X_data.append(signal_pacienta)\n",
    "        \n",
    "    return X_data, y_data"
   ]
  },
  {
   "cell_type": "code",
   "execution_count": 71,
   "metadata": {},
   "outputs": [],
   "source": [
    "# SB_a_AFIB_nazvy_souboru = pd.read_csv(\"SB_a_AFIB_nazvy_souboru.csv\")\n",
    "# soubor = SB_a_AFIB_nazvy_souboru[\"0\"][0]\n",
    "# signal_pacienta = pd.read_csv(f\"data_sigmalu/ECGDataDenoised/{soubor}.csv\",usecols=[0], names = [\"a\"], nrows= 1000)\n"
   ]
  },
  {
   "cell_type": "code",
   "execution_count": 72,
   "metadata": {},
   "outputs": [],
   "source": [
    "# plt.figure(figsize = (20,5))\n",
    "# plt.plot(signal_pacienta)"
   ]
  },
  {
   "cell_type": "code",
   "execution_count": 73,
   "metadata": {},
   "outputs": [],
   "source": [
    "X_data, y_data = stahovani_ekg_signalu_pacientu(\"SB_a_AFIB_nazvy_souboru\")"
   ]
  },
  {
   "cell_type": "code",
   "execution_count": 74,
   "metadata": {},
   "outputs": [],
   "source": [
    "def predzpracovani_dat_signalu(X_data, y_data) -> Tuple[List[int], List[int], List[int], List[int], Tuple[int,int,int]]:\n",
    "    X_data = np.array(X_data)\n",
    "    shape_data = X_data.shape \n",
    "    X_data = X_data.reshape(shape_data[0], shape_data[1])\n",
    "    y_data = np.array(y_data)\n",
    "    # y_data = y_data.reshape(y_data.shape[0],1)\n",
    "    # scaler = MinMaxScaler(feature_range=(0, 1))\n",
    "    # data_scaled = scaler.fit_transform(X_data)\n",
    "    \n",
    "    x_train, x_test, y_train, y_test = train_test_split(X_data, y_data, test_size=0.2)         #(data_scaled, y_data, test_size=0.2)\n",
    "    \n",
    "    return x_train, x_test, y_train, y_test, shape_data "
   ]
  },
  {
   "cell_type": "code",
   "execution_count": 75,
   "metadata": {},
   "outputs": [
    {
     "name": "stdout",
     "output_type": "stream",
     "text": [
      "x_test: (241, 1000), y_test: (241,)\n",
      "x_train: (961, 1000), y_train: (961,)\n",
      "X_data.shape (1202, 1000, 1)\n"
     ]
    }
   ],
   "source": [
    "x_train, x_test, y_train, y_test, shape_data = predzpracovani_dat_signalu(X_data, y_data)\n",
    "print(f\"x_test: {x_test.shape}, y_test: {y_test.shape}\")\n",
    "print(f\"x_train: {x_train.shape}, y_train: {y_train.shape}\")\n",
    "print(f'X_data.shape {shape_data}')"
   ]
  },
  {
   "cell_type": "markdown",
   "metadata": {},
   "source": [
    "prumer = sum_hodnot/ pocet hodnot\n",
    "\n",
    "rozptyl = ((x1 - prumer)^2 +...+ (xi - prumer)^2) pocet hodnot\n",
    "\n",
    "smerodatna odchylka = sqrt(rozptyl)\n",
    "\n",
    "normalizace kazde hodnoty:\n",
    "\n",
    "x1 = (x1 - prumer)/ smerodatna odchylka ...xi = ...\n",
    "\n",
    "po normalizace prumer se blizi k 0, smerodatna odchylka k 1"
   ]
  },
  {
   "cell_type": "code",
   "execution_count": 251,
   "metadata": {},
   "outputs": [],
   "source": [
    "import tensorflow as tf\n",
    "from tensorflow.keras.models import Sequential\n",
    "from tensorflow.keras.layers import Input, Conv1D, Dropout, Dense, MaxPooling1D, Flatten, BatchNormalization\n",
    "\n",
    "def vytvoreni_modelu(shape_data):\n",
    "    \n",
    "    model = Sequential()\n",
    "    model.add(Input(shape=(shape_data[1], 1))) # [batch_size, 1000, 1]\n",
    "\n",
    "    model.add(Conv1D(filters=64, kernel_size=5, padding='same', activation='relu')) # Vystup: [batch_size, 1000, 64]\n",
    "    model.add(BatchNormalization()) # Normalizuje hodnoty v kazde z 64 feature map.\n",
    "    model.add(MaxPooling1D(pool_size=5, padding='same')) # Sniz poc dat, vybira nejvys hodnotu z každého okna dat pool_size, [batch_size, 200, 64]\n",
    "    model.add(Dropout(0.1))\n",
    "\n",
    "    model.add(Conv1D(filters=64, kernel_size=5, padding='same', activation='relu')) # [batch_size, 200, 64] nove future mapy\n",
    "    model.add(BatchNormalization())\n",
    "    model.add(MaxPooling1D(pool_size=5, padding='same')) # [batch_size, 40, 64]\n",
    "    model.add(Dropout(0.3))\n",
    "\n",
    "    model.add(Flatten()) # [batch_size, 40 * 64]\n",
    "    \n",
    "    model.add(Dense(units=80, activation='relu'))\n",
    "    model.add(Dropout(0.3))\n",
    "\n",
    "    model.add(Dense(units=1, activation='sigmoid'))\n",
    "    \n",
    "    return model\n"
   ]
  },
  {
   "cell_type": "code",
   "execution_count": 252,
   "metadata": {},
   "outputs": [],
   "source": [
    "def compilace_uceni(model,x_train, x_test, y_train, y_test ):\n",
    "    model.compile(optimizer='adam',\n",
    "                  loss='binary_crossentropy',\n",
    "                  metrics=['accuracy'])\n",
    "\n",
    "    checkpoint = ModelCheckpoint(filepath=\"model_conv_1D.keras\", save_best_only=True) # Behem treninku 999\n",
    "\n",
    "    history = model.fit(x_train, y_train,\n",
    "                        epochs=20,  \n",
    "                        batch_size=32, # davkovani v uceni \n",
    "                        validation_data=(x_test, y_test),\n",
    "                        callbacks=[checkpoint],\n",
    "                        verbose=1)\n",
    "    \n",
    "    return history, model"
   ]
  },
  {
   "cell_type": "code",
   "execution_count": 253,
   "metadata": {},
   "outputs": [],
   "source": [
    "def zobrazit_accuracy(history):\n",
    "    plt.plot(history.history['accuracy'], label='accuracy')\n",
    "    plt.plot(history.history['val_accuracy'], label = 'val_accuracy')\n",
    "    plt.xlabel('Epoch')\n",
    "    plt.ylabel('Accuracy')\n",
    "    plt.ylim([0, 1])\n",
    "    plt.legend(loc='lower right')\n",
    "    # plt.savefig(plt.savefig(f'vysledek_1D_conv.png'))\n",
    "    plt.show()"
   ]
  },
  {
   "cell_type": "code",
   "execution_count": 254,
   "metadata": {},
   "outputs": [],
   "source": [
    "def zobrazit_loss(history):\n",
    "    plt.plot(history.history[\"loss\"])\n",
    "    plt.plot(history.history[\"val_loss\"])\n",
    "    plt.xlabel('Epoch')\n",
    "    plt.ylabel('Loss')\n",
    "    plt.ylim([0, 1])\n",
    "    # plt.legend(loc='lower right')\n",
    "    # plt.savefig(plt.savefig(f'vysledek_1D_conv.png'))\n",
    "    plt.show()"
   ]
  },
  {
   "cell_type": "code",
   "execution_count": 255,
   "metadata": {},
   "outputs": [
    {
     "name": "stdout",
     "output_type": "stream",
     "text": [
      "Epoch 1/20\n",
      "\u001b[1m31/31\u001b[0m \u001b[32m━━━━━━━━━━━━━━━━━━━━\u001b[0m\u001b[37m\u001b[0m \u001b[1m8s\u001b[0m 92ms/step - accuracy: 0.4994 - loss: 1.1857 - val_accuracy: 0.5851 - val_loss: 0.8413\n",
      "Epoch 2/20\n",
      "\u001b[1m31/31\u001b[0m \u001b[32m━━━━━━━━━━━━━━━━━━━━\u001b[0m\u001b[37m\u001b[0m \u001b[1m3s\u001b[0m 90ms/step - accuracy: 0.7248 - loss: 0.5581 - val_accuracy: 0.6929 - val_loss: 0.7241\n",
      "Epoch 3/20\n",
      "\u001b[1m31/31\u001b[0m \u001b[32m━━━━━━━━━━━━━━━━━━━━\u001b[0m\u001b[37m\u001b[0m \u001b[1m3s\u001b[0m 89ms/step - accuracy: 0.8348 - loss: 0.3967 - val_accuracy: 0.7220 - val_loss: 0.6532\n",
      "Epoch 4/20\n",
      "\u001b[1m31/31\u001b[0m \u001b[32m━━━━━━━━━━━━━━━━━━━━\u001b[0m\u001b[37m\u001b[0m \u001b[1m2s\u001b[0m 78ms/step - accuracy: 0.8601 - loss: 0.3559 - val_accuracy: 0.7386 - val_loss: 0.6630\n",
      "Epoch 5/20\n",
      "\u001b[1m31/31\u001b[0m \u001b[32m━━━━━━━━━━━━━━━━━━━━\u001b[0m\u001b[37m\u001b[0m \u001b[1m3s\u001b[0m 87ms/step - accuracy: 0.8748 - loss: 0.3192 - val_accuracy: 0.7676 - val_loss: 0.6242\n",
      "Epoch 6/20\n",
      "\u001b[1m31/31\u001b[0m \u001b[32m━━━━━━━━━━━━━━━━━━━━\u001b[0m\u001b[37m\u001b[0m \u001b[1m2s\u001b[0m 77ms/step - accuracy: 0.8812 - loss: 0.2937 - val_accuracy: 0.7676 - val_loss: 0.6397\n",
      "Epoch 7/20\n",
      "\u001b[1m31/31\u001b[0m \u001b[32m━━━━━━━━━━━━━━━━━━━━\u001b[0m\u001b[37m\u001b[0m \u001b[1m3s\u001b[0m 80ms/step - accuracy: 0.8916 - loss: 0.2591 - val_accuracy: 0.7925 - val_loss: 0.5504\n",
      "Epoch 8/20\n",
      "\u001b[1m31/31\u001b[0m \u001b[32m━━━━━━━━━━━━━━━━━━━━\u001b[0m\u001b[37m\u001b[0m \u001b[1m2s\u001b[0m 79ms/step - accuracy: 0.9088 - loss: 0.2423 - val_accuracy: 0.7842 - val_loss: 0.5571\n",
      "Epoch 9/20\n",
      "\u001b[1m31/31\u001b[0m \u001b[32m━━━━━━━━━━━━━━━━━━━━\u001b[0m\u001b[37m\u001b[0m \u001b[1m2s\u001b[0m 75ms/step - accuracy: 0.9286 - loss: 0.1860 - val_accuracy: 0.8008 - val_loss: 0.6563\n",
      "Epoch 10/20\n",
      "\u001b[1m31/31\u001b[0m \u001b[32m━━━━━━━━━━━━━━━━━━━━\u001b[0m\u001b[37m\u001b[0m \u001b[1m3s\u001b[0m 88ms/step - accuracy: 0.9263 - loss: 0.1926 - val_accuracy: 0.8091 - val_loss: 0.6618\n",
      "Epoch 11/20\n",
      "\u001b[1m31/31\u001b[0m \u001b[32m━━━━━━━━━━━━━━━━━━━━\u001b[0m\u001b[37m\u001b[0m \u001b[1m3s\u001b[0m 85ms/step - accuracy: 0.9408 - loss: 0.1522 - val_accuracy: 0.8133 - val_loss: 0.6269\n",
      "Epoch 12/20\n",
      "\u001b[1m31/31\u001b[0m \u001b[32m━━━━━━━━━━━━━━━━━━━━\u001b[0m\u001b[37m\u001b[0m \u001b[1m3s\u001b[0m 101ms/step - accuracy: 0.9354 - loss: 0.1509 - val_accuracy: 0.7801 - val_loss: 0.6876\n",
      "Epoch 13/20\n",
      "\u001b[1m31/31\u001b[0m \u001b[32m━━━━━━━━━━━━━━━━━━━━\u001b[0m\u001b[37m\u001b[0m \u001b[1m3s\u001b[0m 87ms/step - accuracy: 0.9595 - loss: 0.1347 - val_accuracy: 0.8008 - val_loss: 0.7184\n",
      "Epoch 14/20\n",
      "\u001b[1m31/31\u001b[0m \u001b[32m━━━━━━━━━━━━━━━━━━━━\u001b[0m\u001b[37m\u001b[0m \u001b[1m3s\u001b[0m 83ms/step - accuracy: 0.9489 - loss: 0.1338 - val_accuracy: 0.8008 - val_loss: 0.6570\n",
      "Epoch 15/20\n",
      "\u001b[1m31/31\u001b[0m \u001b[32m━━━━━━━━━━━━━━━━━━━━\u001b[0m\u001b[37m\u001b[0m \u001b[1m3s\u001b[0m 85ms/step - accuracy: 0.9440 - loss: 0.1703 - val_accuracy: 0.8050 - val_loss: 0.6927\n",
      "Epoch 16/20\n",
      "\u001b[1m31/31\u001b[0m \u001b[32m━━━━━━━━━━━━━━━━━━━━\u001b[0m\u001b[37m\u001b[0m \u001b[1m2s\u001b[0m 78ms/step - accuracy: 0.9345 - loss: 0.1651 - val_accuracy: 0.7884 - val_loss: 0.6931\n",
      "Epoch 17/20\n",
      "\u001b[1m31/31\u001b[0m \u001b[32m━━━━━━━━━━━━━━━━━━━━\u001b[0m\u001b[37m\u001b[0m \u001b[1m3s\u001b[0m 87ms/step - accuracy: 0.9752 - loss: 0.0828 - val_accuracy: 0.7842 - val_loss: 0.7767\n",
      "Epoch 18/20\n",
      "\u001b[1m31/31\u001b[0m \u001b[32m━━━━━━━━━━━━━━━━━━━━\u001b[0m\u001b[37m\u001b[0m \u001b[1m3s\u001b[0m 83ms/step - accuracy: 0.9810 - loss: 0.0689 - val_accuracy: 0.7676 - val_loss: 0.9299\n",
      "Epoch 19/20\n",
      "\u001b[1m31/31\u001b[0m \u001b[32m━━━━━━━━━━━━━━━━━━━━\u001b[0m\u001b[37m\u001b[0m \u001b[1m3s\u001b[0m 82ms/step - accuracy: 0.9690 - loss: 0.0958 - val_accuracy: 0.7884 - val_loss: 0.8000\n",
      "Epoch 20/20\n",
      "\u001b[1m31/31\u001b[0m \u001b[32m━━━━━━━━━━━━━━━━━━━━\u001b[0m\u001b[37m\u001b[0m \u001b[1m3s\u001b[0m 84ms/step - accuracy: 0.9680 - loss: 0.0900 - val_accuracy: 0.7884 - val_loss: 0.9403\n"
     ]
    }
   ],
   "source": [
    "model = vytvoreni_modelu(shape_data)\n",
    "history, model = compilace_uceni(model,x_train, x_test, y_train, y_test)"
   ]
  },
  {
   "cell_type": "code",
   "execution_count": 256,
   "metadata": {},
   "outputs": [
    {
     "data": {
      "image/png": "[encoded data removed]",
      "text/plain": [
       "<Figure size 640x480 with 1 Axes>"
      ]
     },
     "metadata": {},
     "output_type": "display_data"
    }
   ],
   "source": [
    "zobrazit_accuracy(history)\n",
    "# test_loss, test_acc = model.evaluate(X_test,  y_test, verbose=2)"
   ]
  },
  {
   "cell_type": "code",
   "execution_count": 257,
   "metadata": {},
   "outputs": [
    {
     "data": {
      "image/png": "[encoded data removed]",
      "text/plain": [
       "<Figure size 640x480 with 1 Axes>"
      ]
     },
     "metadata": {},
     "output_type": "display_data"
    }
   ],
   "source": [
    "zobrazit_loss(history)"
   ]
  },
  {
   "cell_type": "code",
   "execution_count": null,
   "metadata": {},
   "outputs": [],
   "source": []
  }
 ],
 "metadata": {
  "kernelspec": {
   "display_name": ".venv",
   "language": "python",
   "name": "python3"
  },
  "language_info": {
   "codemirror_mode": {
    "name": "ipython",
    "version": 3
   },
   "file_extension": ".py",
   "mimetype": "text/x-python",
   "name": "python",
   "nbconvert_exporter": "python",
   "pygments_lexer": "ipython3",
   "version": "3.11.9"
  }
 },
 "nbformat": 4,
 "nbformat_minor": 2
}
