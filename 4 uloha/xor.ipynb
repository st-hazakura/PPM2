{
 "cells": [
  {
   "cell_type": "code",
   "execution_count": 1626,
   "metadata": {},
   "outputs": [],
   "source": [
    "import numpy as np\n",
    "import pygad.gann\n",
    "import pygad.nn\n",
    "import pygad\n",
    "import matplotlib.pyplot as plt"
   ]
  },
  {
   "cell_type": "markdown",
   "metadata": {},
   "source": [
    " **Vstupni a vystupni data**"
   ]
  },
  {
   "cell_type": "code",
   "execution_count": 1627,
   "metadata": {},
   "outputs": [],
   "source": [
    "vstupni_data = np.array([[0,1], [1,0], [1,1], [0,0]])\n",
    "vystupni_data = np.array([1,1,0,0])  "
   ]
  },
  {
   "cell_type": "code",
   "execution_count": 1628,
   "metadata": {},
   "outputs": [
    {
     "data": {
      "text/plain": [
       "(4, 2)"
      ]
     },
     "execution_count": 1628,
     "metadata": {},
     "output_type": "execute_result"
    }
   ],
   "source": [
    "vstupni_data.shape"
   ]
  },
  {
   "cell_type": "markdown",
   "metadata": {},
   "source": [
    "**Objekt tridy, kde kazdy jedinec je instance tridy a ma stejnou architecturu**"
   ]
  },
  {
   "cell_type": "code",
   "execution_count": 1629,
   "metadata": {},
   "outputs": [],
   "source": [
    "pocet_vstupnich_neuronu = vstupni_data.shape[1]\n",
    "pocet_vystup_neuronu = 2\n",
    "\n",
    "pocet_reseni = 50\n",
    "GANN_instance = pygad.gann.GANN(num_solutions = pocet_reseni,\n",
    "                                num_neurons_input = pocet_vstupnich_neuronu,\n",
    "                                num_neurons_hidden_layers = [2],\n",
    "                                num_neurons_output = pocet_vystup_neuronu,\n",
    "                                hidden_activations = [\"relu\"],\n",
    "                                output_activation = \"softmax\")"
   ]
  },
  {
   "cell_type": "code",
   "execution_count": 1630,
   "metadata": {},
   "outputs": [],
   "source": [
    "global GANN_instance, vstupni_data, vystupni_data"
   ]
  },
  {
   "cell_type": "markdown",
   "metadata": {},
   "source": [
    "**Rucne definovana fitness funkce**"
   ]
  },
  {
   "cell_type": "code",
   "execution_count": 1631,
   "metadata": {},
   "outputs": [],
   "source": [
    "def fitness_func(ga_instance, solution, solution_idx):\n",
    "    predikce = pygad.nn.predict(last_layer=GANN_instance.population_networks[solution_idx],\n",
    "                                   data_inputs=vstupni_data)\n",
    "    pocet_spravne_predikovanych = np.where(predikce == vystupni_data)[0].size\n",
    "    E_trm = 0.5 * (pocet_spravne_predikovanych - vystupni_data.size)**2\n",
    "    reseni_fitness = 1/(E_trm+1)\n",
    "\n",
    "    return reseni_fitness"
   ]
  },
  {
   "cell_type": "markdown",
   "metadata": {},
   "source": [
    "**nastavovani parametru genetickeho algorithmu**"
   ]
  },
  {
   "cell_type": "code",
   "execution_count": 1632,
   "metadata": {},
   "outputs": [],
   "source": [
    "population_vectors = pygad.gann.population_as_vectors(population_networks=GANN_instance.population_networks)\n",
    "\n",
    "initial_population = population_vectors.copy()\n",
    "\n",
    "pocet_generace = 100\n",
    "pocet_rodicu_na_krizeni = 6\n",
    "sance_mutace = 0.5\n",
    "\n",
    "typ_selekce = \"rws\" #  rws tournament\n",
    "typ_kruzeni = \"single_point\"\n",
    "typ_mutace = \"swap\" \n",
    "nechat_rodice = 2\n",
    "\n",
    "nejmensi_hod_wah = -5\n",
    "nejvetsi_hod_wah = 5"
   ]
  },
  {
   "cell_type": "code",
   "execution_count": 1633,
   "metadata": {},
   "outputs": [
    {
     "name": "stdout",
     "output_type": "stream",
     "text": [
      "8\n"
     ]
    }
   ],
   "source": [
    "print(len(initial_population[0]))"
   ]
  },
  {
   "cell_type": "markdown",
   "metadata": {},
   "source": [
    "pygad.gann.population_as_matrices - prevadi populace prezentovanou jako vektory zpet na matice vah\n",
    "\n",
    "population_networks - seznam neuronovych siti kde kazda sit odpovida jednomu reseni populaci\n",
    "\n",
    "population_vectors - seznam vektoru vah kde kazdy vektor predstavuje vahy jedne z neuronovych siti v population_networks"
   ]
  },
  {
   "cell_type": "code",
   "execution_count": 1634,
   "metadata": {},
   "outputs": [],
   "source": [
    "nejlep_fitness_vysledky = []\n",
    "\n",
    "def callback_generation(ga_instance):\n",
    "\n",
    "    population_matrices = pygad.gann.population_as_matrices(population_networks=GANN_instance.population_networks, population_vectors=ga_instance.population)\n",
    "    GANN_instance.update_population_trained_weights(population_trained_weights=population_matrices)\n",
    "    \n",
    "    global nejlep_fitness_vysledky\n",
    "    aktualni_fitness = ga_instance.last_generation_fitness\n",
    "    nejlep_fitness_vysledky.append(np.max(aktualni_fitness))"
   ]
  },
  {
   "cell_type": "code",
   "execution_count": 1635,
   "metadata": {},
   "outputs": [],
   "source": [
    "ga_instance = pygad.GA(num_generations = pocet_generace, \n",
    "                       num_parents_mating = pocet_rodicu_na_krizeni, \n",
    "                       initial_population=initial_population,\n",
    "                       fitness_func = fitness_func,\n",
    "                       mutation_percent_genes = sance_mutace,\n",
    "                       init_range_low = nejmensi_hod_wah,\n",
    "                       init_range_high = nejvetsi_hod_wah,\n",
    "                       parent_selection_type = typ_selekce,\n",
    "                       crossover_type = typ_kruzeni,\n",
    "                       mutation_type = typ_mutace,\n",
    "                       keep_parents = nechat_rodice,\n",
    "                       on_generation = callback_generation)"
   ]
  },
  {
   "cell_type": "code",
   "execution_count": 1636,
   "metadata": {},
   "outputs": [],
   "source": [
    "ga_instance.run()"
   ]
  },
  {
   "cell_type": "code",
   "execution_count": 1637,
   "metadata": {},
   "outputs": [],
   "source": [
    "reseni, fitness, reseni_idx = ga_instance.best_solution()\n",
    "vysledek = {\n",
    "    'fitness': fitness,\n",
    "    'reseni': reseni,\n",
    "    'fitness_history': nejlep_fitness_vysledky\n",
    "}"
   ]
  },
  {
   "cell_type": "code",
   "execution_count": 1638,
   "metadata": {},
   "outputs": [
    {
     "name": "stdout",
     "output_type": "stream",
     "text": [
      "1.0\n",
      "[-0.07923636  0.00174031  0.07023771 -0.07308148  0.05565327  0.00174031\n",
      "  0.07023771 -0.00084192]\n"
     ]
    }
   ],
   "source": [
    "print(vysledek['fitness'])\n",
    "print(vysledek['reseni'])"
   ]
  },
  {
   "cell_type": "code",
   "execution_count": 1639,
   "metadata": {},
   "outputs": [
    {
     "data": {
      "text/plain": [
       "[0.6666666666666666,\n",
       " 1.0,\n",
       " 1.0,\n",
       " 1.0,\n",
       " 1.0,\n",
       " 1.0,\n",
       " 1.0,\n",
       " 1.0,\n",
       " 1.0,\n",
       " 1.0,\n",
       " 1.0,\n",
       " 1.0,\n",
       " 1.0,\n",
       " 1.0,\n",
       " 1.0,\n",
       " 1.0,\n",
       " 1.0,\n",
       " 1.0,\n",
       " 1.0,\n",
       " 1.0,\n",
       " 1.0,\n",
       " 1.0,\n",
       " 1.0,\n",
       " 1.0,\n",
       " 1.0,\n",
       " 1.0,\n",
       " 1.0,\n",
       " 1.0,\n",
       " 1.0,\n",
       " 1.0,\n",
       " 1.0,\n",
       " 1.0,\n",
       " 1.0,\n",
       " 1.0,\n",
       " 1.0,\n",
       " 1.0,\n",
       " 1.0,\n",
       " 1.0,\n",
       " 1.0,\n",
       " 1.0,\n",
       " 1.0,\n",
       " 1.0,\n",
       " 1.0,\n",
       " 1.0,\n",
       " 1.0,\n",
       " 1.0,\n",
       " 1.0,\n",
       " 1.0,\n",
       " 1.0,\n",
       " 1.0,\n",
       " 1.0,\n",
       " 1.0,\n",
       " 1.0,\n",
       " 1.0,\n",
       " 1.0,\n",
       " 1.0,\n",
       " 1.0,\n",
       " 1.0,\n",
       " 1.0,\n",
       " 1.0,\n",
       " 1.0,\n",
       " 1.0,\n",
       " 1.0,\n",
       " 1.0,\n",
       " 1.0,\n",
       " 1.0,\n",
       " 1.0,\n",
       " 1.0,\n",
       " 1.0,\n",
       " 1.0,\n",
       " 1.0,\n",
       " 1.0,\n",
       " 1.0,\n",
       " 1.0,\n",
       " 1.0,\n",
       " 1.0,\n",
       " 1.0,\n",
       " 1.0,\n",
       " 1.0,\n",
       " 1.0,\n",
       " 1.0,\n",
       " 1.0,\n",
       " 1.0,\n",
       " 1.0,\n",
       " 1.0,\n",
       " 1.0,\n",
       " 1.0,\n",
       " 1.0,\n",
       " 1.0,\n",
       " 1.0,\n",
       " 1.0,\n",
       " 1.0,\n",
       " 1.0,\n",
       " 1.0,\n",
       " 1.0,\n",
       " 1.0,\n",
       " 1.0,\n",
       " 1.0,\n",
       " 1.0,\n",
       " 1.0]"
      ]
     },
     "execution_count": 1639,
     "metadata": {},
     "output_type": "execute_result"
    }
   ],
   "source": [
    "vysledek['fitness_history']"
   ]
  },
  {
   "cell_type": "code",
   "execution_count": 1640,
   "metadata": {},
   "outputs": [
    {
     "data": {
      "image/png": "[encoded data removed]",
      "text/plain": [
       "<Figure size 1000x500 with 1 Axes>"
      ]
     },
     "metadata": {},
     "output_type": "display_data"
    }
   ],
   "source": [
    "plt.figure(figsize=(10, 5))\n",
    "plt.plot(vysledek['fitness_history'], label='Nejlepší fitness')\n",
    "plt.title('Vývoj nejlepší fitness skóre v průběhu generací')\n",
    "plt.xlabel('Generace')\n",
    "plt.ylabel('Fitness')\n",
    "plt.legend()\n",
    "plt.grid(True)\n",
    "plt.show()"
   ]
  },
  {
   "cell_type": "code",
   "execution_count": null,
   "metadata": {},
   "outputs": [],
   "source": []
  }
 ],
 "metadata": {
  "kernelspec": {
   "display_name": ".venv",
   "language": "python",
   "name": "python3"
  },
  "language_info": {
   "codemirror_mode": {
    "name": "ipython",
    "version": 3
   },
   "file_extension": ".py",
   "mimetype": "text/x-python",
   "name": "python",
   "nbconvert_exporter": "python",
   "pygments_lexer": "ipython3",
   "version": "3.11.9"
  }
 },
 "nbformat": 4,
 "nbformat_minor": 2
}
